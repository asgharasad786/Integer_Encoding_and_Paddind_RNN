{
  "nbformat": 4,
  "nbformat_minor": 0,
  "metadata": {
    "colab": {
      "provenance": []
    },
    "kernelspec": {
      "name": "python3",
      "display_name": "Python 3"
    },
    "language_info": {
      "name": "python"
    },
    "accelerator": "GPU",
    "gpuClass": "standard"
  },
  "cells": [
    {
      "cell_type": "code",
      "execution_count": 26,
      "metadata": {
        "id": "SX1YuKQ4UDon"
      },
      "outputs": [],
      "source": [
        "import numpy as np\n",
        "docs = [\n",
        "    'go pakistan',\n",
        "    'pakistan zindabad',\n",
        "    'hip hip hurray',\n",
        "    'jeetega bhai jeetega pakistan jeetega',\n",
        "    'pakistan ki shaan',\n",
        "    'lahore lahore',\n",
        "    'karachi karachi',\n",
        "    'islamabad islamabad',\n",
        "    'imran khan zindabad',\n",
        "    'inquilab zindabad'\n",
        "]"
      ]
    },
    {
      "cell_type": "code",
      "source": [
        "from tensorflow.keras.preprocessing.text import Tokenizer\n",
        "tokenizer = Tokenizer()"
      ],
      "metadata": {
        "id": "xRzvJNh1mRQW"
      },
      "execution_count": 27,
      "outputs": []
    },
    {
      "cell_type": "code",
      "source": [
        "tokenizer.fit_on_texts(docs)"
      ],
      "metadata": {
        "id": "2IhkPg6YmRYT"
      },
      "execution_count": 28,
      "outputs": []
    },
    {
      "cell_type": "code",
      "source": [
        "len(tokenizer.word_index)"
      ],
      "metadata": {
        "colab": {
          "base_uri": "https://localhost:8080/"
        },
        "id": "dP5g_Tmin4AG",
        "outputId": "d7d01ee6-0ab8-4601-c9b2-d9c6bbfe765a"
      },
      "execution_count": 29,
      "outputs": [
        {
          "output_type": "execute_result",
          "data": {
            "text/plain": [
              "15"
            ]
          },
          "metadata": {},
          "execution_count": 29
        }
      ]
    },
    {
      "cell_type": "code",
      "source": [
        "sequences = tokenizer.texts_to_sequences(docs)\n",
        "sequences"
      ],
      "metadata": {
        "colab": {
          "base_uri": "https://localhost:8080/"
        },
        "id": "lOv8NrFFmRcE",
        "outputId": "1df0302b-cee8-4669-cc37-d3741afcd31e"
      },
      "execution_count": 30,
      "outputs": [
        {
          "output_type": "execute_result",
          "data": {
            "text/plain": [
              "[[8, 1],\n",
              " [1, 2],\n",
              " [4, 4, 9],\n",
              " [3, 10, 3, 1, 3],\n",
              " [1, 11, 12],\n",
              " [5, 5],\n",
              " [6, 6],\n",
              " [7, 7],\n",
              " [13, 14, 2],\n",
              " [15, 2]]"
            ]
          },
          "metadata": {},
          "execution_count": 30
        }
      ]
    },
    {
      "cell_type": "code",
      "source": [
        "from keras.utils import pad_sequences\n",
        "sequences = pad_sequences(sequences,padding='post')\n",
        "sequences"
      ],
      "metadata": {
        "colab": {
          "base_uri": "https://localhost:8080/"
        },
        "id": "KG1RqcLnmRkA",
        "outputId": "bde2d9f0-5db6-4449-93ea-e3fe38fc808d"
      },
      "execution_count": 31,
      "outputs": [
        {
          "output_type": "execute_result",
          "data": {
            "text/plain": [
              "array([[ 8,  1,  0,  0,  0],\n",
              "       [ 1,  2,  0,  0,  0],\n",
              "       [ 4,  4,  9,  0,  0],\n",
              "       [ 3, 10,  3,  1,  3],\n",
              "       [ 1, 11, 12,  0,  0],\n",
              "       [ 5,  5,  0,  0,  0],\n",
              "       [ 6,  6,  0,  0,  0],\n",
              "       [ 7,  7,  0,  0,  0],\n",
              "       [13, 14,  2,  0,  0],\n",
              "       [15,  2,  0,  0,  0]], dtype=int32)"
            ]
          },
          "metadata": {},
          "execution_count": 31
        }
      ]
    },
    {
      "cell_type": "code",
      "source": [
        "model = Sequential()\n",
        "model.add(Embedding(17,output_dim=2,input_length=5))\n",
        "\n",
        "model.summary()"
      ],
      "metadata": {
        "colab": {
          "base_uri": "https://localhost:8080/",
          "height": 161
        },
        "id": "ETWEOn4wmRzd",
        "outputId": "5bdc624c-cce1-42a9-dbc0-8b6f9342bc44"
      },
      "execution_count": 32,
      "outputs": [
        {
          "output_type": "display_data",
          "data": {
            "text/plain": [
              "\u001b[1mModel: \"sequential_3\"\u001b[0m\n"
            ],
            "text/html": [
              "<pre style=\"white-space:pre;overflow-x:auto;line-height:normal;font-family:Menlo,'DejaVu Sans Mono',consolas,'Courier New',monospace\"><span style=\"font-weight: bold\">Model: \"sequential_3\"</span>\n",
              "</pre>\n"
            ]
          },
          "metadata": {}
        },
        {
          "output_type": "display_data",
          "data": {
            "text/plain": [
              "┏━━━━━━━━━━━━━━━━━━━━━━━━━━━━━━━━━━━━━━┳━━━━━━━━━━━━━━━━━━━━━━━━━━━━━┳━━━━━━━━━━━━━━━━━┓\n",
              "┃\u001b[1m \u001b[0m\u001b[1mLayer (type)                        \u001b[0m\u001b[1m \u001b[0m┃\u001b[1m \u001b[0m\u001b[1mOutput Shape               \u001b[0m\u001b[1m \u001b[0m┃\u001b[1m \u001b[0m\u001b[1m        Param #\u001b[0m\u001b[1m \u001b[0m┃\n",
              "┡━━━━━━━━━━━━━━━━━━━━━━━━━━━━━━━━━━━━━━╇━━━━━━━━━━━━━━━━━━━━━━━━━━━━━╇━━━━━━━━━━━━━━━━━┩\n",
              "│ embedding_3 (\u001b[38;5;33mEmbedding\u001b[0m)              │ ?                           │     \u001b[38;5;34m0\u001b[0m (unbuilt) │\n",
              "└──────────────────────────────────────┴─────────────────────────────┴─────────────────┘\n"
            ],
            "text/html": [
              "<pre style=\"white-space:pre;overflow-x:auto;line-height:normal;font-family:Menlo,'DejaVu Sans Mono',consolas,'Courier New',monospace\">┏━━━━━━━━━━━━━━━━━━━━━━━━━━━━━━━━━━━━━━┳━━━━━━━━━━━━━━━━━━━━━━━━━━━━━┳━━━━━━━━━━━━━━━━━┓\n",
              "┃<span style=\"font-weight: bold\"> Layer (type)                         </span>┃<span style=\"font-weight: bold\"> Output Shape                </span>┃<span style=\"font-weight: bold\">         Param # </span>┃\n",
              "┡━━━━━━━━━━━━━━━━━━━━━━━━━━━━━━━━━━━━━━╇━━━━━━━━━━━━━━━━━━━━━━━━━━━━━╇━━━━━━━━━━━━━━━━━┩\n",
              "│ embedding_3 (<span style=\"color: #0087ff; text-decoration-color: #0087ff\">Embedding</span>)              │ ?                           │     <span style=\"color: #00af00; text-decoration-color: #00af00\">0</span> (unbuilt) │\n",
              "└──────────────────────────────────────┴─────────────────────────────┴─────────────────┘\n",
              "</pre>\n"
            ]
          },
          "metadata": {}
        },
        {
          "output_type": "display_data",
          "data": {
            "text/plain": [
              "\u001b[1m Total params: \u001b[0m\u001b[38;5;34m0\u001b[0m (0.00 B)\n"
            ],
            "text/html": [
              "<pre style=\"white-space:pre;overflow-x:auto;line-height:normal;font-family:Menlo,'DejaVu Sans Mono',consolas,'Courier New',monospace\"><span style=\"font-weight: bold\"> Total params: </span><span style=\"color: #00af00; text-decoration-color: #00af00\">0</span> (0.00 B)\n",
              "</pre>\n"
            ]
          },
          "metadata": {}
        },
        {
          "output_type": "display_data",
          "data": {
            "text/plain": [
              "\u001b[1m Trainable params: \u001b[0m\u001b[38;5;34m0\u001b[0m (0.00 B)\n"
            ],
            "text/html": [
              "<pre style=\"white-space:pre;overflow-x:auto;line-height:normal;font-family:Menlo,'DejaVu Sans Mono',consolas,'Courier New',monospace\"><span style=\"font-weight: bold\"> Trainable params: </span><span style=\"color: #00af00; text-decoration-color: #00af00\">0</span> (0.00 B)\n",
              "</pre>\n"
            ]
          },
          "metadata": {}
        },
        {
          "output_type": "display_data",
          "data": {
            "text/plain": [
              "\u001b[1m Non-trainable params: \u001b[0m\u001b[38;5;34m0\u001b[0m (0.00 B)\n"
            ],
            "text/html": [
              "<pre style=\"white-space:pre;overflow-x:auto;line-height:normal;font-family:Menlo,'DejaVu Sans Mono',consolas,'Courier New',monospace\"><span style=\"font-weight: bold\"> Non-trainable params: </span><span style=\"color: #00af00; text-decoration-color: #00af00\">0</span> (0.00 B)\n",
              "</pre>\n"
            ]
          },
          "metadata": {}
        }
      ]
    },
    {
      "cell_type": "code",
      "source": [
        "model.compile('adam','accuracy')"
      ],
      "metadata": {
        "id": "R68ghDfNmSAC"
      },
      "execution_count": 33,
      "outputs": []
    },
    {
      "cell_type": "code",
      "source": [
        "pred = model.predict(sequences)\n",
        "print(pred)"
      ],
      "metadata": {
        "colab": {
          "base_uri": "https://localhost:8080/"
        },
        "id": "ooYWO2NwoKoQ",
        "outputId": "4938bdda-9868-43e3-d6bc-9f1f01a315fb"
      },
      "execution_count": 34,
      "outputs": [
        {
          "output_type": "stream",
          "name": "stdout",
          "text": [
            "\u001b[1m1/1\u001b[0m \u001b[32m━━━━━━━━━━━━━━━━━━━━\u001b[0m\u001b[37m\u001b[0m \u001b[1m0s\u001b[0m 112ms/step\n",
            "[[[ 0.00284959  0.03143441]\n",
            "  [ 0.03460909  0.02946204]\n",
            "  [-0.02261049  0.00517107]\n",
            "  [-0.02261049  0.00517107]\n",
            "  [-0.02261049  0.00517107]]\n",
            "\n",
            " [[ 0.03460909  0.02946204]\n",
            "  [ 0.00699691 -0.01073499]\n",
            "  [-0.02261049  0.00517107]\n",
            "  [-0.02261049  0.00517107]\n",
            "  [-0.02261049  0.00517107]]\n",
            "\n",
            " [[ 0.00714288  0.01153817]\n",
            "  [ 0.00714288  0.01153817]\n",
            "  [ 0.04423164  0.0381978 ]\n",
            "  [-0.02261049  0.00517107]\n",
            "  [-0.02261049  0.00517107]]\n",
            "\n",
            " [[-0.04121704  0.0039677 ]\n",
            "  [ 0.03981186  0.03312445]\n",
            "  [-0.04121704  0.0039677 ]\n",
            "  [ 0.03460909  0.02946204]\n",
            "  [-0.04121704  0.0039677 ]]\n",
            "\n",
            " [[ 0.03460909  0.02946204]\n",
            "  [-0.00698922 -0.02223337]\n",
            "  [-0.02390891  0.02177281]\n",
            "  [-0.02261049  0.00517107]\n",
            "  [-0.02261049  0.00517107]]\n",
            "\n",
            " [[ 0.03331942  0.01144508]\n",
            "  [ 0.03331942  0.01144508]\n",
            "  [-0.02261049  0.00517107]\n",
            "  [-0.02261049  0.00517107]\n",
            "  [-0.02261049  0.00517107]]\n",
            "\n",
            " [[ 0.0423291   0.04529735]\n",
            "  [ 0.0423291   0.04529735]\n",
            "  [-0.02261049  0.00517107]\n",
            "  [-0.02261049  0.00517107]\n",
            "  [-0.02261049  0.00517107]]\n",
            "\n",
            " [[ 0.02819275  0.02278678]\n",
            "  [ 0.02819275  0.02278678]\n",
            "  [-0.02261049  0.00517107]\n",
            "  [-0.02261049  0.00517107]\n",
            "  [-0.02261049  0.00517107]]\n",
            "\n",
            " [[ 0.0137766  -0.02183037]\n",
            "  [-0.04990733 -0.01021744]\n",
            "  [ 0.00699691 -0.01073499]\n",
            "  [-0.02261049  0.00517107]\n",
            "  [-0.02261049  0.00517107]]\n",
            "\n",
            " [[-0.04516191  0.01912694]\n",
            "  [ 0.00699691 -0.01073499]\n",
            "  [-0.02261049  0.00517107]\n",
            "  [-0.02261049  0.00517107]\n",
            "  [-0.02261049  0.00517107]]]\n"
          ]
        }
      ]
    }
  ]
}